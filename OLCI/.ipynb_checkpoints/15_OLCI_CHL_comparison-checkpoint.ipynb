{
 "cells": [
  {
   "cell_type": "markdown",
   "metadata": {},
   "source": [
    "# OLCI Chlorophyll product comparison"
   ]
  },
  {
   "cell_type": "markdown",
   "metadata": {},
   "source": [
    "    Version: 2.0\n",
    "    Date:    10/04/2019\n",
    "    Author:  Ben Loveday and Hayley Evers-King (Plymouth Marine Laboratory)\n",
    "    Credit:  This code was developed for EUMETSAT under contracts for the Copernicus \n",
    "             programme.\n",
    "    License: This code is offered as free-to-use in the public domain, with no warranty."
   ]
  },
  {
   "cell_type": "markdown",
   "metadata": {},
   "source": [
    "This aim of this code is to allow you to compare the standard CHL_OC4ME and complex water CHL_NN products over a given scene. It is recommended that you familiarise yourself with the OLCI_spatial_interrogation.ipynb code prior to using this."
   ]
  },
  {
   "cell_type": "code",
   "execution_count": 1,
   "metadata": {},
   "outputs": [],
   "source": [
    "%matplotlib inline\n",
    "\n",
    "# libraries are imported here, and we can import any library with an alias that allows us easy access to them later.\n",
    "import xarray as xr\n",
    "import numpy as np\n",
    "import matplotlib.pyplot as plt\n",
    "from matplotlib import gridspec\n",
    "import os\n",
    "import warnings\n",
    "import cartopy.crs as ccrs\n",
    "import cartopy.feature as cfeature\n",
    "warnings.filterwarnings('ignore')"
   ]
  },
  {
   "cell_type": "code",
   "execution_count": 2,
   "metadata": {},
   "outputs": [],
   "source": [
    "land_resolution = '50m'\n",
    "land_poly = cfeature.NaturalEarthFeature('physical', 'land', land_resolution,\n",
    "                                        edgecolor='k',\n",
    "                                        facecolor=cfeature.COLORS['land'])"
   ]
  },
  {
   "cell_type": "code",
   "execution_count": 3,
   "metadata": {},
   "outputs": [],
   "source": [
    "def flag_data_fast(flags_we_want, flag_names, flag_values, flag_data, flag_type='WQSF'):\n",
    "    flag_bits = np.uint64()\n",
    "    if flag_type == 'SST':\n",
    "        flag_bits = np.uint8()\n",
    "    elif flag_type == 'WQSF_lsb':\n",
    "        flag_bits = np.uint32()\n",
    "    \n",
    "    for flag in flags_we_want:\n",
    "        try:\n",
    "            flag_bits = flag_bits | flag_values[flag_names.index(flag)]\n",
    "        except:\n",
    "            print(flag + \" not present\")\n",
    "    \n",
    "    return (flag_data & flag_bits) > 0"
   ]
  },
  {
   "cell_type": "markdown",
   "metadata": {},
   "source": [
    "At Level-2 OLCI products contain two estimates of Chlorophyll pigment concentration. The first product, CHL_OC4ME, is the open-ocean pigment product, with retrievals based on reflectances derived from standard atmospheric processor. The second product, CHL_NN, is derived using a neural network approach this is more appropriate for complex waters. If you wish, you can derive the latter yourself in SNAP using the C2RCC processor. This may be beneficial to you, as this approach will also generate the Level-2 reflectances associated with this method, which are not included in the standard Level-2 product, as well as C2RCC flags. "
   ]
  },
  {
   "cell_type": "code",
   "execution_count": 4,
   "metadata": {},
   "outputs": [],
   "source": [
    "# e.g. MYPATH = os.path.join(\"C:/\",\"Users\",\"me\",\"Desktop\")\n",
    "#MYPATH = \"<please insert your path from Data_Path_Checker.ipynb here, removing the quotes and chevrons>\"\n",
    "\n",
    "MYPATH = os.path.join(\"C:\\\\\",\"Users\",\"docle\",\"Desktop\",\"autumn_2020_course-master\")"
   ]
  },
  {
   "cell_type": "code",
   "execution_count": 5,
   "metadata": {},
   "outputs": [],
   "source": [
    "input_root    = os.path.join(MYPATH,'OLCI_test_data')\n",
    "input_path    = 'S3A_OL_2_WFR____20171226T045629_20171226T045929_20171227T105453_0179_026_076_2700_MAR_O_NT_002.SEN3'\n",
    "file_name_chl_OC4ME = 'chl_oc4me.nc'\n",
    "file_name_chl_NN = 'chl_nn.nc'\n",
    "file_name_geo = 'geo_coordinates.nc'"
   ]
  },
  {
   "cell_type": "markdown",
   "metadata": {},
   "source": [
    "We'll quickly check, in the next box, if your data path is ok, and that the data file exists check."
   ]
  },
  {
   "cell_type": "code",
   "execution_count": 6,
   "metadata": {},
   "outputs": [
    {
     "name": "stdout",
     "output_type": "stream",
     "text": [
      "Path length name seems fine\n",
      "Found the required data file\n"
     ]
    }
   ],
   "source": [
    "# quick path length check (some windows versions have a problem with long file paths)\n",
    "if len(os.path.join(input_root,input_path,file_name_chl_OC4ME)) > 259 \\\n",
    "  or len(os.path.join(input_root,input_path,file_name_chl_OC4ME)) > 248:\n",
    "    print('Beware, your path name is quite long. Consider moving your data to a new directory')\n",
    "else:\n",
    "    print('Path length name seems fine')\n",
    "    \n",
    "if os.path.exists(os.path.join(input_root,input_path,file_name_chl_OC4ME)):\n",
    "    print('Found the required data file')\n",
    "else:\n",
    "    print('Data file missing. Please check your path and file name')"
   ]
  },
  {
   "cell_type": "markdown",
   "metadata": {},
   "source": [
    "So, lets load in some data..."
   ]
  },
  {
   "cell_type": "code",
   "execution_count": 7,
   "metadata": {},
   "outputs": [],
   "source": [
    "GEO_file = xr.open_dataset(os.path.join(input_root,input_path,file_name_geo))\n",
    "LAT      = GEO_file.latitude\n",
    "LON      = GEO_file.longitude\n",
    "GEO_file.close()\n",
    "\n",
    "OLCI_file_OC4ME  =  xr.open_dataset(os.path.join(input_root,input_path,file_name_chl_OC4ME))\n",
    "OLCI_file_NN     =  xr.open_dataset(os.path.join(input_root,input_path,file_name_chl_NN))\n",
    "\n",
    "CHL_OC4ME = OLCI_file_OC4ME.CHL_OC4ME.data\n",
    "CHL_NN    = OLCI_file_NN.CHL_NN.data\n",
    "\n",
    "OLCI_file_OC4ME.close()\n",
    "OLCI_file_NN.close()"
   ]
  },
  {
   "cell_type": "code",
   "execution_count": 8,
   "metadata": {},
   "outputs": [],
   "source": [
    "flags_we_want = ['CLOUD', 'CLOUD_AMBIGUOUS', 'CLOUD_MARGIN', 'INVALID', 'COSMETIC', 'SATURATED', 'SUSPECT',\n",
    "                 'HISOLZEN', 'HIGHGLINT', 'SNOW_ICE', 'AC_FAIL', 'WHITECAPS', 'ANNOT_ABSO_D', 'ANNOT_MIXR1',\n",
    "                 'ANNOT_DROUT', 'ANNOT_TAU06', 'RWNEG_O2', 'RWNEG_O3', 'RWNEG_O4', 'RWNEG_O5', 'RWNEG_O6',\n",
    "                 'RWNEG_O7', 'RWNEG_O8']\n",
    "\n",
    "file_name_flags = 'wqsf.nc'\n",
    "FLAG_file = xr.open_dataset(os.path.join(input_root,input_path,file_name_flags))\n",
    "# get all the flag names\n",
    "flag_names = FLAG_file['WQSF'].flag_meanings.split(' ')\n",
    "# get all the flag bit values\n",
    "flag_vals = FLAG_file['WQSF'].flag_masks\n",
    "# get the flag field itself\n",
    "FLAGS = FLAG_file.variables['WQSF'].data\n",
    "FLAG_file.close()\n",
    "\n",
    "# make the flag mask using the function we defined above \"flag_data_fast\"\n",
    "flag_mask = flag_data_fast(flags_we_want, flag_names, flag_vals, FLAGS, flag_type='WQSF')\n",
    "flag_mask = flag_mask.astype(float)\n",
    "flag_mask[flag_mask == 0.0] = np.nan"
   ]
  },
  {
   "cell_type": "markdown",
   "metadata": {},
   "source": [
    "Lets flag our OC4ME data, and then calculate the anomaly between the two Chlorophyll products. \n",
    "REMEMBER: Not all of the standard L2 flags provided are relevant for the CHL_NN product."
   ]
  },
  {
   "cell_type": "code",
   "execution_count": 9,
   "metadata": {},
   "outputs": [],
   "source": [
    "CHL_OC4ME[np.isfinite(flag_mask)] = np.nan\n",
    "\n",
    "# the CHL values in the product are log10 distributed, so we have to linearise this prior to calculating the anomaly.\n",
    "CHL_ANOMALY = 10**CHL_NN - 10**CHL_OC4ME\n",
    "\n",
    "# now get the 95% percentile of the finite values of the array to help with plotting\n",
    "MAX_VAL = np.percentile(np.abs(CHL_ANOMALY[np.isfinite(CHL_ANOMALY)]), 95)"
   ]
  },
  {
   "cell_type": "code",
   "execution_count": 11,
   "metadata": {},
   "outputs": [
    {
     "data": {
      "text/plain": [
       "array([[nan, nan, nan, ..., nan, nan, nan],\n",
       "       [nan, nan, nan, ..., nan, nan, nan],\n",
       "       [nan, nan, nan, ..., nan, nan, nan],\n",
       "       ...,\n",
       "       [nan, nan, nan, ..., nan, nan, nan],\n",
       "       [nan, nan, nan, ..., nan, nan, nan],\n",
       "       [nan, nan, nan, ..., nan, nan, nan]], dtype=float32)"
      ]
     },
     "execution_count": 11,
     "metadata": {},
     "output_type": "execute_result"
    }
   ],
   "source": [
    "CHL_ANOMALY"
   ]
  },
  {
   "cell_type": "markdown",
   "metadata": {},
   "source": [
    "We have discussed plotting extensively in previous scripts, so here we will proceeed directly to plotting and comparing the data. We are plotting an ENTIRE full resolution scene, which can be processor intensive to display, so we are going to print directly to file"
   ]
  },
  {
   "cell_type": "code",
   "execution_count": 10,
   "metadata": {
    "scrolled": false
   },
   "outputs": [],
   "source": [
    "%%capture\n",
    "\n",
    "fig1 = plt.figure(figsize=(20, 20), dpi=300)\n",
    "\n",
    "gs  = gridspec.GridSpec(1, 3)\n",
    "\n",
    "#plot OC4ME\n",
    "m = plt.subplot(gs[0,0], projection=ccrs.PlateCarree(central_longitude=0.0))\n",
    "f1 = plt.pcolormesh(LON, LAT, np.ma.masked_invalid(CHL_OC4ME), shading='flat', vmin=np.log10(0.01), vmax=np.log10(50), cmap=plt.cm.viridis)\n",
    "m.coastlines(resolution=land_resolution, color='black', linewidth=1)\n",
    "m.add_feature(land_poly)\n",
    "g1 = m.gridlines(draw_labels = True)\n",
    "g1.xlabels_top = False\n",
    "g1.ylabels_right = False\n",
    "g1.xlabel_style = {'size': 16, 'color': 'gray'}\n",
    "g1.ylabel_style = {'size': 16, 'color': 'gray'}\n",
    "cbar = plt.colorbar(f1, orientation=\"horizontal\", fraction=0.05, pad=0.07, ticks=[np.log10(0.01), np.log10(0.1),np.log10(0.5), np.log10(1),np.log10(3),np.log10(10),np.log10(50)]) \n",
    "cbar.ax.set_xticklabels(['0.01','0.1','0.5','1','3','10','50'], fontsize=20) \n",
    "cbar.set_label('Chlorophyll, mg.m$^{-3}$', fontsize=20)\n",
    "plt.title('OLCI [Chla OC4ME]', fontsize=20)\n",
    "\n",
    "#plot NN\n",
    "m = plt.subplot(gs[0,1], projection=ccrs.PlateCarree(central_longitude=0.0))\n",
    "f1 = plt.pcolormesh(LON, LAT, np.ma.masked_invalid(CHL_NN), shading='flat', vmin=np.log10(0.01), vmax=np.log10(50), cmap=plt.cm.viridis)\n",
    "m.coastlines(resolution=land_resolution, color='black', linewidth=1)\n",
    "m.add_feature(land_poly)\n",
    "g1 = m.gridlines(draw_labels = True)\n",
    "g1.xlabels_top = False\n",
    "g1.ylabels_right = False\n",
    "g1.xlabel_style = {'size': 16, 'color': 'gray'}\n",
    "g1.ylabel_style = {'size': 16, 'color': 'gray'}\n",
    "cbar = plt.colorbar(f1, orientation=\"horizontal\", fraction=0.05, pad=0.07, ticks=[np.log10(0.01), np.log10(0.1),np.log10(0.5), np.log10(1),np.log10(3),np.log10(10),np.log10(50)]) \n",
    "cbar.ax.set_xticklabels(['0.01','0.1','0.5','1','3','10','50'], fontsize=20) \n",
    "cbar.set_label('Chlorophyll, mg.m$^{-3}$', fontsize=20)\n",
    "plt.title('OLCI [Chla NN]', fontsize=20)\n",
    "\n",
    "#plot ANOMALY\n",
    "m = plt.subplot(gs[0,2], projection=ccrs.PlateCarree(central_longitude=0.0))\n",
    "f1 = plt.pcolormesh(LON, LAT, np.ma.masked_invalid(CHL_ANOMALY), shading='flat', vmin=MAX_VAL*-1, vmax=MAX_VAL, cmap=plt.cm.RdBu_r)\n",
    "m.coastlines(resolution=land_resolution, color='black', linewidth=1)\n",
    "m.add_feature(land_poly)\n",
    "g1 = m.gridlines(draw_labels = True)\n",
    "g1.xlabels_top = False\n",
    "g1.ylabels_right = False\n",
    "g1.xlabel_style = {'size': 16, 'color': 'gray'}\n",
    "g1.ylabel_style = {'size': 16, 'color': 'gray'}\n",
    "cbar = plt.colorbar(f1, orientation=\"horizontal\", fraction=0.05, pad=0.07) \n",
    "cbar.set_label('Chlorophyll anomaly, mg m$^{-3}$', fontsize=20)\n",
    "plt.title('OLCI [CHL_NN - CHL_OC4ME]', fontsize=20)\n",
    "\n",
    "fig1.savefig('OLCI_CHL_COMPARISON.png', bbox_inches='tight')"
   ]
  },
  {
   "cell_type": "markdown",
   "metadata": {},
   "source": [
    "<br> <a href=\"./14_OLCI_water_constituents.ipynb\"><< OLCI - Water constituents</a><span style=\"float:right;\"><a href=\"./16_OLCI_spectral_AC_L1_L2_comparison.ipynb\">16 - Ocean and Land Colour Instrument - atmospheric correction effects: Level-1B to Level-2 spectral comparison >></a>  <hr> <p style=\"text-align:left;\">This project is licensed under the <a href=\"/edit/LICENSE\">MIT License</a> <span style=\"float:right;\"><a href=\"https://gitlab.eumetsat.int/eo-lab-usc-open/ocean\">View on GitLab</a> | <a href=\"https://training.eumetsat.int/\">EUMETSAT Training</a> | <a href=mailto:training@eumetsat.int>Contact</a></span></p>"
   ]
  },
  {
   "cell_type": "code",
   "execution_count": null,
   "metadata": {},
   "outputs": [],
   "source": []
  }
 ],
 "metadata": {
  "anaconda-cloud": {},
  "kernelspec": {
   "display_name": "Python 3",
   "language": "python",
   "name": "python3"
  },
  "language_info": {
   "codemirror_mode": {
    "name": "ipython",
    "version": 3
   },
   "file_extension": ".py",
   "mimetype": "text/x-python",
   "name": "python",
   "nbconvert_exporter": "python",
   "pygments_lexer": "ipython3",
   "version": "3.6.10"
  }
 },
 "nbformat": 4,
 "nbformat_minor": 2
}

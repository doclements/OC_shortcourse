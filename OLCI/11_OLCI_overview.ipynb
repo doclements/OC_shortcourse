{
 "cells": [
  {
   "cell_type": "markdown",
   "metadata": {},
   "source": [
    "# Ocean and Land Colour Instrument - OLCI"
   ]
  },
  {
   "cell_type": "markdown",
   "metadata": {},
   "source": [
    "## Ocean Colour data, from the Sentinel-3 Ocean and Land Colour Instrument (OLCI), provides a window into the ocean living ecosystems."
   ]
  },
  {
   "cell_type": "markdown",
   "metadata": {},
   "source": [
    "OLCI provides spectral information on the colour of the oceans. This data can be used to monitor global ocean primary production by phytoplankton, the basis of nearly all life in our seas.\n",
    "\n",
    "Ocean colour data is also vital to understand climate change — ocean colour is one of the Essential Climate Variables listed by the World Meteorological Organization to detect biological activity in the ocean’s surface layer. Phytoplankton take up carbon dioxide (CO2) during photosynthesis, making them important carbon sinks. Ocean colour data can be used to monitor the annual global uptake of CO2 by phytoplankton on a global scale. Using this data we can study the wider Earth system, for instance the El Niño/La Niña phenomena and how these impacts the ocean ecosystem.\n",
    "\n",
    "Beyond climate, ocean colour data is also useful to look at more sporadic events. OLCI data can be used track sediment transport, monitor coastal water quality and track and forecast harmful algal blooms that are a danger to humans, marine/freshwater life and aquaculture.\n",
    "\n",
    "The global picture of ocean ecosystems provided by ocean colour data can guide sustainable marine resource management and support reporting obligations of the European Union's legislation within Marine Strategy Framework Directive and Water Framework Directive, the goal of which is to achieve or maintain Good Environmental Status of the seas by the year 2020\n",
    "\n",
    "\n",
    "\n",
    "Further information on the sensor and its data can be found at [http://olci.eumetsat.int](http://olci.eumetsat.int)"
   ]
  },
  {
   "cell_type": "markdown",
   "metadata": {},
   "source": [
    "### Data Download\n",
    "\n",
    "There are several options when it comes to downloading Sentinel-3 OLCI data. The option can be generally split into ;\n",
    "\n",
    "* Copernicus Online Data Access - CODA ([more info](https://www.eumetsat.int/website/home/Data/DataDelivery/CopernicusOnlineDataAccess/index.html))\n",
    "* EUMETSAT Data Centre ([more info](https://www.eumetsat.int/website/home/Data/DataDelivery/EUMETSATDataCentre/index.html))\n",
    "* Reprocessed data - CODAREP ([more info](https://codarep.eumetsat.int))"
   ]
  },
  {
   "cell_type": "markdown",
   "metadata": {},
   "source": [
    "### exercises\n",
    "\n",
    "These notebooks will walk you through several exercises that will cover :\n",
    "\n",
    " * [Basic spatial subsetting and intergoation](./12_OLCI_spatial_interrogation.ipynb)\n",
    " * [Basic spectral interrogation](./13_OLCI_spectral_interrogation.ipynb)\n",
    " \n",
    "There are also notebooks that cover more complex topics such as :\n",
    "\n",
    " * assessing the water constituents using OLCI\n",
    " * comparison of different chlorophyll algorithms\n",
    " * comparison of level 1 and level 2 data\n",
    " \n"
   ]
  },
  {
   "cell_type": "markdown",
   "metadata": {},
   "source": [
    "<br> <a href=\"/notebooks/00_index.ipynb\"><< Index</a><span style=\"float:right;\"><a href=\"./12_OLCI_spatial_interrogation.ipynb\">12 - Ocean and Land Colour Instrument - spatial interrogation >></a>  <hr> <p style=\"text-align:left;\">This project is licensed under the <a href=\"./LICENSE\">MIT License</a> <span style=\"float:right;\"><a href=\"https://gitlab.eumetsat.int/eo-lab-usc-open/ocean\">View on GitLab</a> | <a href=\"https://training.eumetsat.int/\">EUMETSAT Training</a> | <a href=mailto:training@eumetsat.int>Contact</a></span></p>"
   ]
  },
  {
   "cell_type": "code",
   "execution_count": null,
   "metadata": {},
   "outputs": [],
   "source": []
  }
 ],
 "metadata": {
  "kernelspec": {
   "display_name": "Python 3",
   "language": "python",
   "name": "python3"
  },
  "language_info": {
   "codemirror_mode": {
    "name": "ipython",
    "version": 3
   },
   "file_extension": ".py",
   "mimetype": "text/x-python",
   "name": "python",
   "nbconvert_exporter": "python",
   "pygments_lexer": "ipython3",
   "version": "3.6.10"
  }
 },
 "nbformat": 4,
 "nbformat_minor": 2
}
